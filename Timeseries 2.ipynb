{
 "cells": [
  {
   "cell_type": "code",
   "execution_count": 35,
   "metadata": {
    "collapsed": true
   },
   "outputs": [],
   "source": [
    "import scipy\n",
    "# numpy\n",
    "import numpy as np\n",
    "# matplotlib'\n",
    "import matplotlib\n",
    "import matplotlib.pyplot as plt\n",
    "# pandas\n",
    "import pandas as pd\n",
    "# scikit-learn\n",
    "import sklearn\n",
    "import statsmodels\n",
    "%matplotlib inline"
   ]
  },
  {
   "cell_type": "code",
   "execution_count": 36,
   "metadata": {},
   "outputs": [
    {
     "data": {
      "text/html": [
       "<div>\n",
       "<style>\n",
       "    .dataframe thead tr:only-child th {\n",
       "        text-align: right;\n",
       "    }\n",
       "\n",
       "    .dataframe thead th {\n",
       "        text-align: left;\n",
       "    }\n",
       "\n",
       "    .dataframe tbody tr th {\n",
       "        vertical-align: top;\n",
       "    }\n",
       "</style>\n",
       "<table border=\"1\" class=\"dataframe\">\n",
       "  <thead>\n",
       "    <tr style=\"text-align: right;\">\n",
       "      <th></th>\n",
       "      <th>Month</th>\n",
       "      <th>Perrin Freres monthly champagne sales millions ?64-?72</th>\n",
       "    </tr>\n",
       "  </thead>\n",
       "  <tbody>\n",
       "    <tr>\n",
       "      <th>0</th>\n",
       "      <td>1964-01</td>\n",
       "      <td>2815</td>\n",
       "    </tr>\n",
       "    <tr>\n",
       "      <th>1</th>\n",
       "      <td>1964-02</td>\n",
       "      <td>2672</td>\n",
       "    </tr>\n",
       "    <tr>\n",
       "      <th>2</th>\n",
       "      <td>1964-03</td>\n",
       "      <td>2755</td>\n",
       "    </tr>\n",
       "    <tr>\n",
       "      <th>3</th>\n",
       "      <td>1964-04</td>\n",
       "      <td>2721</td>\n",
       "    </tr>\n",
       "    <tr>\n",
       "      <th>4</th>\n",
       "      <td>1964-05</td>\n",
       "      <td>2946</td>\n",
       "    </tr>\n",
       "  </tbody>\n",
       "</table>\n",
       "</div>"
      ],
      "text/plain": [
       "     Month  Perrin Freres monthly champagne sales millions ?64-?72\n",
       "0  1964-01                                               2815     \n",
       "1  1964-02                                               2672     \n",
       "2  1964-03                                               2755     \n",
       "3  1964-04                                               2721     \n",
       "4  1964-05                                               2946     "
      ]
     },
     "execution_count": 36,
     "metadata": {},
     "output_type": "execute_result"
    }
   ],
   "source": [
    "df = pd.read_csv('champagne.csv', header=0)\n",
    "df.head()"
   ]
  },
  {
   "cell_type": "code",
   "execution_count": 37,
   "metadata": {},
   "outputs": [
    {
     "name": "stdout",
     "output_type": "stream",
     "text": [
      "Dataset 94, Validation 12\n"
     ]
    }
   ],
   "source": [
    "split_point = len(df) - 12\n",
    "dataset, validation = df.loc[0:split_point], df.loc[split_point:]\n",
    "print('Dataset %d, Validation %d' % (len(dataset), len(validation)))\n",
    "dataset.to_csv('dataset.csv',index=False)\n",
    "validation.to_csv('validation.csv',index=False)"
   ]
  },
  {
   "cell_type": "code",
   "execution_count": 38,
   "metadata": {},
   "outputs": [
    {
     "data": {
      "text/html": [
       "<div>\n",
       "<style>\n",
       "    .dataframe thead tr:only-child th {\n",
       "        text-align: right;\n",
       "    }\n",
       "\n",
       "    .dataframe thead th {\n",
       "        text-align: left;\n",
       "    }\n",
       "\n",
       "    .dataframe tbody tr th {\n",
       "        vertical-align: top;\n",
       "    }\n",
       "</style>\n",
       "<table border=\"1\" class=\"dataframe\">\n",
       "  <thead>\n",
       "    <tr style=\"text-align: right;\">\n",
       "      <th></th>\n",
       "      <th>Month</th>\n",
       "      <th>Perrin Freres monthly champagne sales millions ?64-?72</th>\n",
       "    </tr>\n",
       "  </thead>\n",
       "  <tbody>\n",
       "    <tr>\n",
       "      <th>0</th>\n",
       "      <td>1964-01</td>\n",
       "      <td>2815</td>\n",
       "    </tr>\n",
       "    <tr>\n",
       "      <th>1</th>\n",
       "      <td>1964-02</td>\n",
       "      <td>2672</td>\n",
       "    </tr>\n",
       "    <tr>\n",
       "      <th>2</th>\n",
       "      <td>1964-03</td>\n",
       "      <td>2755</td>\n",
       "    </tr>\n",
       "    <tr>\n",
       "      <th>3</th>\n",
       "      <td>1964-04</td>\n",
       "      <td>2721</td>\n",
       "    </tr>\n",
       "    <tr>\n",
       "      <th>4</th>\n",
       "      <td>1964-05</td>\n",
       "      <td>2946</td>\n",
       "    </tr>\n",
       "  </tbody>\n",
       "</table>\n",
       "</div>"
      ],
      "text/plain": [
       "     Month  Perrin Freres monthly champagne sales millions ?64-?72\n",
       "0  1964-01                                               2815     \n",
       "1  1964-02                                               2672     \n",
       "2  1964-03                                               2755     \n",
       "3  1964-04                                               2721     \n",
       "4  1964-05                                               2946     "
      ]
     },
     "execution_count": 38,
     "metadata": {},
     "output_type": "execute_result"
    }
   ],
   "source": [
    "dataset.head()"
   ]
  },
  {
   "cell_type": "code",
   "execution_count": 5,
   "metadata": {},
   "outputs": [
    {
     "data": {
      "text/html": [
       "<div>\n",
       "<style>\n",
       "    .dataframe thead tr:only-child th {\n",
       "        text-align: right;\n",
       "    }\n",
       "\n",
       "    .dataframe thead th {\n",
       "        text-align: left;\n",
       "    }\n",
       "\n",
       "    .dataframe tbody tr th {\n",
       "        vertical-align: top;\n",
       "    }\n",
       "</style>\n",
       "<table border=\"1\" class=\"dataframe\">\n",
       "  <thead>\n",
       "    <tr style=\"text-align: right;\">\n",
       "      <th></th>\n",
       "      <th>Month</th>\n",
       "      <th>Perrin Freres monthly champagne sales millions ?64-?72</th>\n",
       "    </tr>\n",
       "  </thead>\n",
       "  <tbody>\n",
       "    <tr>\n",
       "      <th>93</th>\n",
       "      <td>1971-10</td>\n",
       "      <td>6981</td>\n",
       "    </tr>\n",
       "    <tr>\n",
       "      <th>94</th>\n",
       "      <td>1971-11</td>\n",
       "      <td>9851</td>\n",
       "    </tr>\n",
       "    <tr>\n",
       "      <th>95</th>\n",
       "      <td>1971-12</td>\n",
       "      <td>12670</td>\n",
       "    </tr>\n",
       "    <tr>\n",
       "      <th>96</th>\n",
       "      <td>1972-01</td>\n",
       "      <td>4348</td>\n",
       "    </tr>\n",
       "    <tr>\n",
       "      <th>97</th>\n",
       "      <td>1972-02</td>\n",
       "      <td>3564</td>\n",
       "    </tr>\n",
       "  </tbody>\n",
       "</table>\n",
       "</div>"
      ],
      "text/plain": [
       "      Month  Perrin Freres monthly champagne sales millions ?64-?72\n",
       "93  1971-10                                               6981     \n",
       "94  1971-11                                               9851     \n",
       "95  1971-12                                              12670     \n",
       "96  1972-01                                               4348     \n",
       "97  1972-02                                               3564     "
      ]
     },
     "execution_count": 5,
     "metadata": {},
     "output_type": "execute_result"
    }
   ],
   "source": [
    "validation.head()"
   ]
  },
  {
   "cell_type": "markdown",
   "metadata": {},
   "source": [
    "# Model Evaluation\n",
    "Model evaluation will only be performed on the data in dataset.csv prepared in the previous section.\n",
    "\n",
    "Model evaluation involves two elements:\n",
    "\n",
    "Performance Measure.\n",
    "Test Strategy."
   ]
  },
  {
   "cell_type": "markdown",
   "metadata": {},
   "source": [
    "#### Performance Measure\n",
    "\n",
    "The observations are a count of champagne sales in millions of units.\n",
    "\n",
    "We will evaluate the performance of predictions using the root mean squared error (RMSE). This will give more weight to predictions that are grossly wrong and will have the same units as the original data.\n",
    "\n",
    "Any transforms to the data must be reversed before the RMSE is calculated and reported to make the performance between different methods directly comparable.\n",
    "\n",
    "We can calculate the RMSE using the helper function from the scikit-learn library mean_squared_error() that calculates the mean squared error between a list of expected values (the test set) and the list of predictions. We can then take the square root of this value to give us an RMSE score.\n",
    "\n"
   ]
  },
  {
   "cell_type": "markdown",
   "metadata": {},
   "source": [
    "#### Test Strategy\n",
    "Candidate models will be evaluated using walk-forward validation.\n",
    "\n",
    "This is because a rolling-forecast type model is required from the problem definition. This is where one-step forecasts are needed given all available data.\n",
    "\n",
    "The walk-forward validation will work as follows:\n",
    "\n",
    "The first 50% of the dataset will be held back to train the model.\n",
    "\n",
    "The remaining 50% of the dataset will be iterated and test the model.\n",
    "\n",
    "For each step in the test dataset:\n",
    "    \n",
    "A model will be trained.\n",
    "\n",
    "A one-step prediction made and the prediction stored for later evaluation.\n",
    "\n",
    "The actual observation from the test dataset will be added to the training dataset for the next iteration.\n",
    "\n",
    "The predictions made during the iteration of the test dataset will be evaluated and an RMSE score reported."
   ]
  },
  {
   "cell_type": "markdown",
   "metadata": {},
   "source": [
    "Firstly, we can split the dataset into train and test sets directly. We’re careful to always convert a loaded dataset to float32 in case the loaded data still has some String or Integer data types."
   ]
  },
  {
   "cell_type": "code",
   "execution_count": 39,
   "metadata": {
    "collapsed": true
   },
   "outputs": [],
   "source": [
    "# prepare data\n",
    "X = dataset['Perrin Freres monthly champagne sales millions ?64-?72'].values\n",
    "X = X.astype('float32')\n",
    "train_size = int(len(X) * 0.50)\n",
    "train, test = X[0:train_size], X[train_size:]"
   ]
  },
  {
   "cell_type": "code",
   "execution_count": 40,
   "metadata": {},
   "outputs": [
    {
     "data": {
      "text/plain": [
       "array([ 2815.,  2672.,  2755.,  2721.,  2946.,  3036.,  2282.,  2212.,\n",
       "        2922.,  4301.,  5764.,  7312.,  2541.,  2475.,  3031.,  3266.,\n",
       "        3776.,  3230.,  3028.,  1759.,  3595.,  4474.,  6838.,  8357.,\n",
       "        3113.,  3006.,  4047.,  3523.,  3937.,  3986.,  3260.,  1573.,\n",
       "        3528.,  5211.,  7614.,  9254.,  5375.,  3088.,  3718.,  4514.,\n",
       "        4520.,  4539.,  3663.,  1643.,  4739.,  5428.,  8314.], dtype=float32)"
      ]
     },
     "execution_count": 40,
     "metadata": {},
     "output_type": "execute_result"
    }
   ],
   "source": [
    "train"
   ]
  },
  {
   "cell_type": "markdown",
   "metadata": {},
   "source": [
    "# Persistence"
   ]
  },
  {
   "cell_type": "markdown",
   "metadata": {},
   "source": [
    "The baseline prediction for time series forecasting is called the naive forecast, or persistence.\n",
    "\n",
    "This is where the observation from the previous time step is used as the prediction for the observation at the next time step."
   ]
  },
  {
   "cell_type": "code",
   "execution_count": 41,
   "metadata": {},
   "outputs": [
    {
     "name": "stdout",
     "output_type": "stream",
     "text": [
      ">Predicted=8314.000, Expected=10651\n",
      ">Predicted=10651.000, Expected=3633\n",
      ">Predicted=3633.000, Expected=4292\n",
      ">Predicted=4292.000, Expected=4154\n",
      ">Predicted=4154.000, Expected=4121\n",
      ">Predicted=4121.000, Expected=4647\n",
      ">Predicted=4647.000, Expected=4753\n",
      ">Predicted=4753.000, Expected=3965\n",
      ">Predicted=3965.000, Expected=1723\n",
      ">Predicted=1723.000, Expected=5048\n",
      ">Predicted=5048.000, Expected=6922\n",
      ">Predicted=6922.000, Expected=9858\n",
      ">Predicted=9858.000, Expected=11331\n",
      ">Predicted=11331.000, Expected=4016\n",
      ">Predicted=4016.000, Expected=3957\n",
      ">Predicted=3957.000, Expected=4510\n",
      ">Predicted=4510.000, Expected=4276\n",
      ">Predicted=4276.000, Expected=4968\n",
      ">Predicted=4968.000, Expected=4677\n",
      ">Predicted=4677.000, Expected=3523\n",
      ">Predicted=3523.000, Expected=1821\n",
      ">Predicted=1821.000, Expected=5222\n",
      ">Predicted=5222.000, Expected=6872\n",
      ">Predicted=6872.000, Expected=10803\n",
      ">Predicted=10803.000, Expected=13916\n",
      ">Predicted=13916.000, Expected=2639\n",
      ">Predicted=2639.000, Expected=2899\n",
      ">Predicted=2899.000, Expected=3370\n",
      ">Predicted=3370.000, Expected=3740\n",
      ">Predicted=3740.000, Expected=2927\n",
      ">Predicted=2927.000, Expected=3986\n",
      ">Predicted=3986.000, Expected=4217\n",
      ">Predicted=4217.000, Expected=1738\n",
      ">Predicted=1738.000, Expected=5221\n",
      ">Predicted=5221.000, Expected=6424\n",
      ">Predicted=6424.000, Expected=9842\n",
      ">Predicted=9842.000, Expected=13076\n",
      ">Predicted=13076.000, Expected=3934\n",
      ">Predicted=3934.000, Expected=3162\n",
      ">Predicted=3162.000, Expected=4286\n",
      ">Predicted=4286.000, Expected=4676\n",
      ">Predicted=4676.000, Expected=5010\n",
      ">Predicted=5010.000, Expected=4874\n",
      ">Predicted=4874.000, Expected=4633\n",
      ">Predicted=4633.000, Expected=1659\n",
      ">Predicted=1659.000, Expected=5951\n",
      ">Predicted=5951.000, Expected=6981\n",
      "RMSE: 3162.143\n"
     ]
    }
   ],
   "source": [
    "from pandas import Series\n",
    "from sklearn.metrics import mean_squared_error\n",
    "from math import sqrt\n",
    "\n",
    "# walk-forward validation\n",
    "history = [x for x in train]\n",
    "predictions = list()\n",
    "for i in range(len(test)):\n",
    "    # predict\n",
    "    yhat = history[-1]\n",
    "    predictions.append(yhat)\n",
    "    # observation\n",
    "    obs = test[i]\n",
    "    history.append(obs)\n",
    "    print('>Predicted=%.3f, Expected=%3.f' % (yhat, obs))\n",
    "# report performance\n",
    "mse = mean_squared_error(test, predictions)\n",
    "rmse = sqrt(mse)\n",
    "print('RMSE: %.3f' % rmse)"
   ]
  },
  {
   "cell_type": "markdown",
   "metadata": {},
   "source": [
    "#### Running the test harness prints the prediction and observation for each iteration of the test dataset.\n",
    "\n",
    "The example ends by printing the RMSE for the model.\n",
    "\n",
    "In this case, we can see that the persistence model achieved an RMSE of 3167.362. This means that on average, the model was wrong by about 3,167 million sales for each prediction made."
   ]
  },
  {
   "cell_type": "markdown",
   "metadata": {},
   "source": [
    "# Data Analysis\n",
    "We can use summary statistics and plots of the data to quickly learn more about the structure of the prediction problem.\n",
    "\n",
    "In this section, we will look at the data from five perspectives:\n",
    "\n",
    "Summary Statistics.\n",
    "Line Plot.\n",
    "Seasonal Line Plots\n",
    "Density Plots.\n",
    "Box and Whisker Plot."
   ]
  },
  {
   "cell_type": "code",
   "execution_count": 42,
   "metadata": {},
   "outputs": [
    {
     "data": {
      "text/html": [
       "<div>\n",
       "<style>\n",
       "    .dataframe thead tr:only-child th {\n",
       "        text-align: right;\n",
       "    }\n",
       "\n",
       "    .dataframe thead th {\n",
       "        text-align: left;\n",
       "    }\n",
       "\n",
       "    .dataframe tbody tr th {\n",
       "        vertical-align: top;\n",
       "    }\n",
       "</style>\n",
       "<table border=\"1\" class=\"dataframe\">\n",
       "  <thead>\n",
       "    <tr style=\"text-align: right;\">\n",
       "      <th></th>\n",
       "      <th>Perrin Freres monthly champagne sales millions ?64-?72</th>\n",
       "    </tr>\n",
       "  </thead>\n",
       "  <tbody>\n",
       "    <tr>\n",
       "      <th>count</th>\n",
       "      <td>105.000000</td>\n",
       "    </tr>\n",
       "    <tr>\n",
       "      <th>mean</th>\n",
       "      <td>4761.152381</td>\n",
       "    </tr>\n",
       "    <tr>\n",
       "      <th>std</th>\n",
       "      <td>2553.502601</td>\n",
       "    </tr>\n",
       "    <tr>\n",
       "      <th>min</th>\n",
       "      <td>1413.000000</td>\n",
       "    </tr>\n",
       "    <tr>\n",
       "      <th>25%</th>\n",
       "      <td>3113.000000</td>\n",
       "    </tr>\n",
       "    <tr>\n",
       "      <th>50%</th>\n",
       "      <td>4217.000000</td>\n",
       "    </tr>\n",
       "    <tr>\n",
       "      <th>75%</th>\n",
       "      <td>5221.000000</td>\n",
       "    </tr>\n",
       "    <tr>\n",
       "      <th>max</th>\n",
       "      <td>13916.000000</td>\n",
       "    </tr>\n",
       "  </tbody>\n",
       "</table>\n",
       "</div>"
      ],
      "text/plain": [
       "       Perrin Freres monthly champagne sales millions ?64-?72\n",
       "count                                         105.000000     \n",
       "mean                                         4761.152381     \n",
       "std                                          2553.502601     \n",
       "min                                          1413.000000     \n",
       "25%                                          3113.000000     \n",
       "50%                                          4217.000000     \n",
       "75%                                          5221.000000     \n",
       "max                                         13916.000000     "
      ]
     },
     "execution_count": 42,
     "metadata": {},
     "output_type": "execute_result"
    }
   ],
   "source": [
    "df.describe()"
   ]
  },
  {
   "cell_type": "code",
   "execution_count": 43,
   "metadata": {
    "collapsed": true
   },
   "outputs": [],
   "source": [
    "from pandas import datetime\n",
    "\n",
    "def parser(x):\n",
    "    return pd.datetime.strptime(x, '%Y-%m')"
   ]
  },
  {
   "cell_type": "code",
   "execution_count": 44,
   "metadata": {
    "collapsed": true
   },
   "outputs": [],
   "source": [
    "df['Month'] = df['Month'].apply(lambda x : parser(x))"
   ]
  },
  {
   "cell_type": "code",
   "execution_count": 45,
   "metadata": {},
   "outputs": [
    {
     "data": {
      "text/plain": [
       "Month                                                     datetime64[ns]\n",
       "Perrin Freres monthly champagne sales millions ?64-?72             int64\n",
       "dtype: object"
      ]
     },
     "execution_count": 45,
     "metadata": {},
     "output_type": "execute_result"
    }
   ],
   "source": [
    "df.dtypes"
   ]
  },
  {
   "cell_type": "code",
   "execution_count": 46,
   "metadata": {},
   "outputs": [
    {
     "data": {
      "text/html": [
       "<div>\n",
       "<style>\n",
       "    .dataframe thead tr:only-child th {\n",
       "        text-align: right;\n",
       "    }\n",
       "\n",
       "    .dataframe thead th {\n",
       "        text-align: left;\n",
       "    }\n",
       "\n",
       "    .dataframe tbody tr th {\n",
       "        vertical-align: top;\n",
       "    }\n",
       "</style>\n",
       "<table border=\"1\" class=\"dataframe\">\n",
       "  <thead>\n",
       "    <tr style=\"text-align: right;\">\n",
       "      <th></th>\n",
       "      <th>Month</th>\n",
       "      <th>Perrin Freres monthly champagne sales millions ?64-?72</th>\n",
       "    </tr>\n",
       "  </thead>\n",
       "  <tbody>\n",
       "    <tr>\n",
       "      <th>0</th>\n",
       "      <td>1964-01-01</td>\n",
       "      <td>2815</td>\n",
       "    </tr>\n",
       "    <tr>\n",
       "      <th>1</th>\n",
       "      <td>1964-02-01</td>\n",
       "      <td>2672</td>\n",
       "    </tr>\n",
       "    <tr>\n",
       "      <th>2</th>\n",
       "      <td>1964-03-01</td>\n",
       "      <td>2755</td>\n",
       "    </tr>\n",
       "    <tr>\n",
       "      <th>3</th>\n",
       "      <td>1964-04-01</td>\n",
       "      <td>2721</td>\n",
       "    </tr>\n",
       "    <tr>\n",
       "      <th>4</th>\n",
       "      <td>1964-05-01</td>\n",
       "      <td>2946</td>\n",
       "    </tr>\n",
       "  </tbody>\n",
       "</table>\n",
       "</div>"
      ],
      "text/plain": [
       "       Month  Perrin Freres monthly champagne sales millions ?64-?72\n",
       "0 1964-01-01                                               2815     \n",
       "1 1964-02-01                                               2672     \n",
       "2 1964-03-01                                               2755     \n",
       "3 1964-04-01                                               2721     \n",
       "4 1964-05-01                                               2946     "
      ]
     },
     "execution_count": 46,
     "metadata": {},
     "output_type": "execute_result"
    }
   ],
   "source": [
    "df.head()"
   ]
  },
  {
   "cell_type": "code",
   "execution_count": 47,
   "metadata": {
    "collapsed": true
   },
   "outputs": [],
   "source": [
    "df = df.set_index(df['Month'])"
   ]
  },
  {
   "cell_type": "code",
   "execution_count": 48,
   "metadata": {},
   "outputs": [
    {
     "data": {
      "text/html": [
       "<div>\n",
       "<style>\n",
       "    .dataframe thead tr:only-child th {\n",
       "        text-align: right;\n",
       "    }\n",
       "\n",
       "    .dataframe thead th {\n",
       "        text-align: left;\n",
       "    }\n",
       "\n",
       "    .dataframe tbody tr th {\n",
       "        vertical-align: top;\n",
       "    }\n",
       "</style>\n",
       "<table border=\"1\" class=\"dataframe\">\n",
       "  <thead>\n",
       "    <tr style=\"text-align: right;\">\n",
       "      <th></th>\n",
       "      <th>Month</th>\n",
       "      <th>Perrin Freres monthly champagne sales millions ?64-?72</th>\n",
       "    </tr>\n",
       "    <tr>\n",
       "      <th>Month</th>\n",
       "      <th></th>\n",
       "      <th></th>\n",
       "    </tr>\n",
       "  </thead>\n",
       "  <tbody>\n",
       "    <tr>\n",
       "      <th>1964-01-01</th>\n",
       "      <td>1964-01-01</td>\n",
       "      <td>2815</td>\n",
       "    </tr>\n",
       "    <tr>\n",
       "      <th>1964-02-01</th>\n",
       "      <td>1964-02-01</td>\n",
       "      <td>2672</td>\n",
       "    </tr>\n",
       "    <tr>\n",
       "      <th>1964-03-01</th>\n",
       "      <td>1964-03-01</td>\n",
       "      <td>2755</td>\n",
       "    </tr>\n",
       "    <tr>\n",
       "      <th>1964-04-01</th>\n",
       "      <td>1964-04-01</td>\n",
       "      <td>2721</td>\n",
       "    </tr>\n",
       "    <tr>\n",
       "      <th>1964-05-01</th>\n",
       "      <td>1964-05-01</td>\n",
       "      <td>2946</td>\n",
       "    </tr>\n",
       "  </tbody>\n",
       "</table>\n",
       "</div>"
      ],
      "text/plain": [
       "                Month  Perrin Freres monthly champagne sales millions ?64-?72\n",
       "Month                                                                        \n",
       "1964-01-01 1964-01-01                                               2815     \n",
       "1964-02-01 1964-02-01                                               2672     \n",
       "1964-03-01 1964-03-01                                               2755     \n",
       "1964-04-01 1964-04-01                                               2721     \n",
       "1964-05-01 1964-05-01                                               2946     "
      ]
     },
     "execution_count": 48,
     "metadata": {},
     "output_type": "execute_result"
    }
   ],
   "source": [
    "df.head()"
   ]
  },
  {
   "cell_type": "code",
   "execution_count": 49,
   "metadata": {},
   "outputs": [
    {
     "data": {
      "text/plain": [
       "<matplotlib.axes._subplots.AxesSubplot at 0xafd3c18>"
      ]
     },
     "execution_count": 49,
     "metadata": {},
     "output_type": "execute_result"
    },
    {
     "data": {
      "image/png": "[encoded data removed]",
      "text/plain": [
       "<matplotlib.figure.Figure at 0xa0967f0>"
      ]
     },
     "metadata": {},
     "output_type": "display_data"
    }
   ],
   "source": [
    "df.plot()"
   ]
  },
  {
   "cell_type": "code",
   "execution_count": 58,
   "metadata": {},
   "outputs": [
    {
     "data": {
      "image/png": "[encoded data removed]",
      "text/plain": [
       "<matplotlib.figure.Figure at 0x9a8f3c8>"
      ]
     },
     "metadata": {},
     "output_type": "display_data"
    }
   ],
   "source": [
    "from pandas import Series\n",
    "from pandas import DataFrame\n",
    "from pandas import TimeGrouper\n",
    "from matplotlib import pyplot\n",
    "#series = Series.from_csv('dataset.csv')\n",
    "groups = df['1964':'1970'].groupby(TimeGrouper('A'))\n",
    "years = DataFrame()\n",
    "pyplot.figure()\n",
    "i = 1\n",
    "n_groups = len(groups)\n",
    "for name, group in groups:\n",
    "\tpyplot.subplot((n_groups*100) + 10 + i)\n",
    "\ti += 1\n",
    "\tpyplot.plot(group)\n",
    "pyplot.show()"
   ]
  },
  {
   "cell_type": "code",
   "execution_count": 50,
   "metadata": {
    "collapsed": true
   },
   "outputs": [],
   "source": [
    "# create a differenced series\n",
    "def difference(dataset, interval=1):\n",
    "\tdiff = list()\n",
    "\tfor i in range(interval, len(dataset)):\n",
    "\t\tvalue = dataset[i] - dataset[i - interval]\n",
    "\t\tdiff.append(value)\n",
    "\treturn Series(diff)"
   ]
  },
  {
   "cell_type": "code",
   "execution_count": 52,
   "metadata": {},
   "outputs": [],
   "source": [
    "# difference data\n",
    "months_in_year = 12\n",
    "stationary = difference(X, months_in_year)\n",
    "stationary.index = dataset.index[months_in_year:]"
   ]
  },
  {
   "cell_type": "code",
   "execution_count": 53,
   "metadata": {},
   "outputs": [
    {
     "data": {
      "text/plain": [
       "12    -274.0\n",
       "13    -197.0\n",
       "14     276.0\n",
       "15     545.0\n",
       "16     830.0\n",
       "17     194.0\n",
       "18     746.0\n",
       "19    -453.0\n",
       "20     673.0\n",
       "21     173.0\n",
       "22    1074.0\n",
       "23    1045.0\n",
       "24     572.0\n",
       "25     531.0\n",
       "26    1016.0\n",
       "27     257.0\n",
       "28     161.0\n",
       "29     756.0\n",
       "30     232.0\n",
       "31    -186.0\n",
       "32     -67.0\n",
       "33     737.0\n",
       "34     776.0\n",
       "35     897.0\n",
       "36    2262.0\n",
       "37      82.0\n",
       "38    -329.0\n",
       "39     991.0\n",
       "40     583.0\n",
       "41     553.0\n",
       "       ...  \n",
       "64     321.0\n",
       "65     -76.0\n",
       "66    -442.0\n",
       "67      98.0\n",
       "68     174.0\n",
       "69     -50.0\n",
       "70     945.0\n",
       "71    2585.0\n",
       "72   -1377.0\n",
       "73   -1058.0\n",
       "74   -1140.0\n",
       "75    -536.0\n",
       "76   -2041.0\n",
       "77    -691.0\n",
       "78     694.0\n",
       "79     -83.0\n",
       "80      -1.0\n",
       "81    -448.0\n",
       "82    -961.0\n",
       "83    -840.0\n",
       "84    1295.0\n",
       "85     263.0\n",
       "86     916.0\n",
       "87     936.0\n",
       "88    2083.0\n",
       "89     888.0\n",
       "90     416.0\n",
       "91     -79.0\n",
       "92     730.0\n",
       "93     557.0\n",
       "Length: 82, dtype: float64"
      ]
     },
     "execution_count": 53,
     "metadata": {},
     "output_type": "execute_result"
    }
   ],
   "source": [
    "stationary"
   ]
  },
  {
   "cell_type": "markdown",
   "metadata": {},
   "source": [
    "same as above function "
   ]
  },
  {
   "cell_type": "code",
   "execution_count": 54,
   "metadata": {
    "collapsed": true
   },
   "outputs": [],
   "source": [
    "stationary = dataset['Perrin Freres monthly champagne sales millions ?64-?72'] - dataset['Perrin Freres monthly champagne sales millions ?64-?72'].shift(12)"
   ]
  },
  {
   "cell_type": "code",
   "execution_count": 55,
   "metadata": {},
   "outputs": [
    {
     "data": {
      "text/plain": [
       "0        NaN\n",
       "1        NaN\n",
       "2        NaN\n",
       "3        NaN\n",
       "4        NaN\n",
       "5        NaN\n",
       "6        NaN\n",
       "7        NaN\n",
       "8        NaN\n",
       "9        NaN\n",
       "10       NaN\n",
       "11       NaN\n",
       "12    -274.0\n",
       "13    -197.0\n",
       "14     276.0\n",
       "15     545.0\n",
       "16     830.0\n",
       "17     194.0\n",
       "18     746.0\n",
       "19    -453.0\n",
       "20     673.0\n",
       "21     173.0\n",
       "22    1074.0\n",
       "23    1045.0\n",
       "24     572.0\n",
       "25     531.0\n",
       "26    1016.0\n",
       "27     257.0\n",
       "28     161.0\n",
       "29     756.0\n",
       "       ...  \n",
       "64     321.0\n",
       "65     -76.0\n",
       "66    -442.0\n",
       "67      98.0\n",
       "68     174.0\n",
       "69     -50.0\n",
       "70     945.0\n",
       "71    2585.0\n",
       "72   -1377.0\n",
       "73   -1058.0\n",
       "74   -1140.0\n",
       "75    -536.0\n",
       "76   -2041.0\n",
       "77    -691.0\n",
       "78     694.0\n",
       "79     -83.0\n",
       "80      -1.0\n",
       "81    -448.0\n",
       "82    -961.0\n",
       "83    -840.0\n",
       "84    1295.0\n",
       "85     263.0\n",
       "86     916.0\n",
       "87     936.0\n",
       "88    2083.0\n",
       "89     888.0\n",
       "90     416.0\n",
       "91     -79.0\n",
       "92     730.0\n",
       "93     557.0\n",
       "Name: Perrin Freres monthly champagne sales millions ?64-?72, Length: 94, dtype: float64"
      ]
     },
     "execution_count": 55,
     "metadata": {},
     "output_type": "execute_result"
    }
   ],
   "source": [
    "stationary"
   ]
  },
  {
   "cell_type": "code",
   "execution_count": 57,
   "metadata": {},
   "outputs": [
    {
     "name": "stdout",
     "output_type": "stream",
     "text": [
      "ADF Statistic: -7.180580\n",
      "p-value: 0.000000\n",
      "Critical Values:\n",
      "\t1%: -3.514\n",
      "\t10%: -2.586\n",
      "\t5%: -2.898\n"
     ]
    }
   ],
   "source": [
    "# check if stationary\n",
    "from statsmodels.tsa.stattools import adfuller\n",
    "result = adfuller(stationary.dropna())\n",
    "print('ADF Statistic: %f' % result[0])\n",
    "print('p-value: %f' % result[1])\n",
    "print('Critical Values:')\n",
    "for key, value in result[4].items():\n",
    "\tprint('\\t%s: %.3f' % (key, value))"
   ]
  },
  {
   "cell_type": "code",
   "execution_count": 58,
   "metadata": {},
   "outputs": [
    {
     "data": {
      "text/plain": [
       "<matplotlib.axes._subplots.AxesSubplot at 0xadb3438>"
      ]
     },
     "execution_count": 58,
     "metadata": {},
     "output_type": "execute_result"
    },
    {
     "data": {
      "image/png": "[encoded data removed]",
      "text/plain": [
       "<matplotlib.figure.Figure at 0xae69978>"
      ]
     },
     "metadata": {},
     "output_type": "display_data"
    }
   ],
   "source": [
    "from pandas.tools.plotting import autocorrelation_plot\n",
    "autocorrelation_plot(dataset['Perrin Freres monthly champagne sales millions ?64-?72'])"
   ]
  },
  {
   "cell_type": "code",
   "execution_count": 59,
   "metadata": {},
   "outputs": [
    {
     "data": {
      "image/png": "[encoded data removed]",
      "text/plain": [
       "<matplotlib.figure.Figure at 0xafcd198>"
      ]
     },
     "metadata": {},
     "output_type": "display_data"
    }
   ],
   "source": [
    "from statsmodels.graphics.tsaplots import plot_acf\n",
    "from statsmodels.graphics.tsaplots import plot_pacf\n",
    "from matplotlib import pyplot\n",
    "\n",
    "pyplot.figure()\n",
    "pyplot.subplot(211)\n",
    "plot_acf(stationary.dropna(), ax=pyplot.gca())\n",
    "pyplot.subplot(212)\n",
    "plot_pacf(stationary.dropna(), ax=pyplot.gca())\n",
    "pyplot.show()"
   ]
  },
  {
   "cell_type": "code",
   "execution_count": 60,
   "metadata": {},
   "outputs": [
    {
     "data": {
      "image/png": "[encoded data removed]",
      "text/plain": [
       "<matplotlib.figure.Figure at 0xaed1e80>"
      ]
     },
     "execution_count": 60,
     "metadata": {},
     "output_type": "execute_result"
    },
    {
     "data": {
      "image/png": "[encoded data removed]",
      "text/plain": [
       "<matplotlib.figure.Figure at 0xaed1e80>"
      ]
     },
     "metadata": {},
     "output_type": "display_data"
    }
   ],
   "source": [
    "from statsmodels.graphics.tsaplots import plot_acf\n",
    "from statsmodels.graphics.tsaplots import plot_pacf\n",
    "\n",
    "plot_acf(stationary.dropna())\n"
   ]
  },
  {
   "cell_type": "code",
   "execution_count": 61,
   "metadata": {},
   "outputs": [
    {
     "data": {
      "image/png": "[encoded data removed]",
      "text/plain": [
       "<matplotlib.figure.Figure at 0xa0cab38>"
      ]
     },
     "execution_count": 61,
     "metadata": {},
     "output_type": "execute_result"
    },
    {
     "data": {
      "image/png": "[encoded data removed]",
      "text/plain": [
       "<matplotlib.figure.Figure at 0xb008be0>"
      ]
     },
     "metadata": {},
     "output_type": "display_data"
    },
    {
     "data": {
      "image/png": "[encoded data removed]",
      "text/plain": [
       "<matplotlib.figure.Figure at 0xa0cab38>"
      ]
     },
     "metadata": {},
     "output_type": "display_data"
    }
   ],
   "source": [
    "pyplot.subplot(212)\n",
    "plot_pacf(stationary.dropna())\n"
   ]
  },
  {
   "cell_type": "code",
   "execution_count": 62,
   "metadata": {
    "collapsed": true
   },
   "outputs": [],
   "source": [
    "# create a differenced series\n",
    "def difference(dataset, interval=1):\n",
    "\tdiff = list()\n",
    "\tfor i in range(interval, len(dataset)):\n",
    "\t\tvalue = dataset[i] - dataset[i - interval]\n",
    "\t\tdiff.append(value)\n",
    "\treturn numpy.array(diff)\n",
    " \n",
    "# invert differenced value\n",
    "def inverse_difference(history, yhat, interval=1):\n",
    "\treturn yhat + history[-interval]"
   ]
  },
  {
   "cell_type": "code",
   "execution_count": 63,
   "metadata": {
    "collapsed": true
   },
   "outputs": [],
   "source": [
    "# evaluate an ARIMA model for a given order (p,d,q) and return RMSE\n",
    "def evaluate_arima_model(X, arima_order):\n",
    "\t# prepare training dataset\n",
    "\t\n",
    "\tX = X.astype('float32')\n",
    "\t#print(X)\n",
    "\ttrain_size = int(len(X) * 0.50)\n",
    "\ttrain, test = X[0:train_size], X[train_size:]\n",
    "\thistory = [x for x in train]\n",
    "\t# make predictions\n",
    "\tpredictions = list()\n",
    "\tfor t in range(len(test)):\n",
    "\t\t# difference data\n",
    "\t\tmonths_in_year = 12\n",
    "\t\tdiff = difference(history, months_in_year)\n",
    "\t\tmodel = ARIMA(diff, order=arima_order)\n",
    "\t\tmodel_fit = model.fit(trend='nc',disp=0)\n",
    "\t\t#print(model_fit.summary())\n",
    "\t\tyhat = model_fit.forecast()[0]\n",
    "\t\t#print(yhat)       \n",
    "\t\tyhat = inverse_difference(history, yhat, months_in_year)\n",
    "\t\tpredictions.append(yhat)\n",
    "\t\thistory.append(test[t])\n",
    "\t# calculate out of sample error\n",
    "\tmse = mean_squared_error(test, predictions)\n",
    "\trmse = sqrt(mse)\n",
    "\treturn rmse"
   ]
  },
  {
   "cell_type": "code",
   "execution_count": 64,
   "metadata": {
    "collapsed": true
   },
   "outputs": [],
   "source": [
    "# evaluate combinations of p, d and q values for an ARIMA model\n",
    "def evaluate_models(dataset, p_values, d_values, q_values):\n",
    "\tdataset = dataset.astype('float32')\n",
    "\tbest_score, best_cfg = float(\"inf\"), None\n",
    "\tfor p in p_values:\n",
    "\t\tfor d in d_values:\n",
    "\t\t\tfor q in q_values:\n",
    "\t\t\t\torder = (p,d,q)\n",
    "\t\t\t\t#print('order',order)\n",
    "\t\t\t\ttry:\n",
    "\t\t\t\t\tmse = evaluate_arima_model(dataset, order)\n",
    "\t\t\t\t\t#print(mse)\n",
    "\t\t\t\t\tif mse < best_score:\n",
    "\t\t\t\t\t\tbest_score, best_cfg = mse, order\n",
    "\t\t\t\t\tprint('ARIMA%s RMSE=%.3f' % (order,mse))\n",
    "\t\t\t\texcept:\n",
    "\t\t\t\t\tcontinue\n",
    "\tprint('Best ARIMA%s RMSE=%.3f' % (best_cfg, best_score))"
   ]
  },
  {
   "cell_type": "code",
   "execution_count": 66,
   "metadata": {},
   "outputs": [
    {
     "name": "stdout",
     "output_type": "stream",
     "text": [
      "Dataset 69, Validation 12\n",
      "ARIMA(0, 0, 1) RMSE=814.032\n",
      "ARIMA(0, 0, 2) RMSE=858.796\n",
      "ARIMA(0, 0, 3) RMSE=830.621\n",
      "ARIMA(0, 0, 4) RMSE=850.470\n",
      "ARIMA(0, 1, 1) RMSE=749.526\n",
      "ARIMA(0, 2, 1) RMSE=1015.061\n",
      "ARIMA(1, 0, 0) RMSE=833.687\n",
      "ARIMA(1, 1, 0) RMSE=918.964\n",
      "ARIMA(1, 1, 1) RMSE=761.824\n",
      "ARIMA(1, 2, 0) RMSE=1426.064\n",
      "ARIMA(2, 0, 0) RMSE=834.047\n",
      "ARIMA(2, 1, 0) RMSE=824.423\n",
      "ARIMA(2, 1, 1) RMSE=776.818\n",
      "ARIMA(2, 2, 0) RMSE=1121.154\n",
      "ARIMA(2, 2, 1) RMSE=844.848\n",
      "ARIMA(3, 0, 0) RMSE=796.342\n",
      "ARIMA(3, 1, 0) RMSE=843.049\n",
      "ARIMA(3, 2, 0) RMSE=1088.919\n",
      "ARIMA(4, 0, 0) RMSE=815.481\n",
      "ARIMA(4, 1, 0) RMSE=838.049\n",
      "ARIMA(4, 1, 1) RMSE=796.641\n",
      "ARIMA(4, 2, 0) RMSE=1035.700\n",
      "ARIMA(4, 2, 1) RMSE=867.484\n",
      "ARIMA(5, 0, 0) RMSE=815.977\n",
      "ARIMA(5, 1, 0) RMSE=841.310\n",
      "ARIMA(6, 0, 0) RMSE=818.350\n",
      "ARIMA(6, 1, 0) RMSE=842.685\n",
      "Best ARIMA(0, 1, 1) RMSE=749.526\n"
     ]
    }
   ],
   "source": [
    "import warnings\n",
    "from pandas import Series\n",
    "from statsmodels.tsa.arima_model import ARIMA\n",
    "from sklearn.metrics import mean_squared_error\n",
    "from math import sqrt\n",
    "import numpy\n",
    "# evaluate parameters\n",
    "\n",
    "series = Series.from_csv('dataset.csv', header=0)\n",
    "series.dropna(inplace=True)\n",
    "split_point = len(series) - 12\n",
    "dataset, validation = series[0:split_point], series[split_point:]\n",
    "print('Dataset %d, Validation %d' % (len(dataset), len(validation)))\n",
    "dataset.to_csv('dataset.csv')\n",
    "validation.to_csv('validation.csv')\n",
    "# load dataset\n",
    "series = Series.from_csv('dataset.csv')\n",
    "p_values = range(0, 7)\n",
    "d_values = range(0, 3)\n",
    "q_values = range(0, 7)\n",
    "warnings.filterwarnings(\"ignore\")\n",
    "#evaluate_models(df['Perrin Freres monthly champagne sales millions ?64-?72'].values, p_values, d_values, q_values)\n",
    "evaluate_models(series.values, p_values, d_values, q_values)"
   ]
  },
  {
   "cell_type": "code",
   "execution_count": 14,
   "metadata": {},
   "outputs": [
    {
     "name": "stdout",
     "output_type": "stream",
     "text": [
      "ARIMA(0, 0, 1) RMSE=785.401\n",
      "ARIMA(0, 1, 1) RMSE=842.240\n",
      "ARIMA(1, 0, 0) RMSE=781.498\n",
      "ARIMA(1, 1, 0) RMSE=897.585\n",
      "ARIMA(1, 1, 1) RMSE=840.265\n",
      "Best ARIMA(1, 0, 0) RMSE=781.498\n"
     ]
    }
   ],
   "source": [
    "p_values = range(0, 2)\n",
    "d_values = range(0, 2)\n",
    "q_values = range(0, 2)\n",
    "evaluate_models(df['Perrin Freres monthly champagne sales millions ?64-?72'].values, p_values, d_values, q_values)"
   ]
  },
  {
   "cell_type": "markdown",
   "metadata": {},
   "source": [
    "# Review Residual Errors\n",
    "\n",
    "A good final check of a model is to review residual forecast errors.\n",
    "\n",
    "Ideally, the distribution of residual errors should be a Gaussian with a zero mean.\n",
    "\n",
    "We can check this by using summary statistics and plots to investigate the residual errors from the ARIMA(0, 0, 1) model. The example below calculates and summarizes the residual forecast errors."
   ]
  },
  {
   "cell_type": "code",
   "execution_count": 35,
   "metadata": {
    "collapsed": true
   },
   "outputs": [],
   "source": [
    "series = pd.read_csv('dataset.csv')"
   ]
  },
  {
   "cell_type": "code",
   "execution_count": 36,
   "metadata": {},
   "outputs": [
    {
     "data": {
      "text/html": [
       "<div>\n",
       "<style>\n",
       "    .dataframe thead tr:only-child th {\n",
       "        text-align: right;\n",
       "    }\n",
       "\n",
       "    .dataframe thead th {\n",
       "        text-align: left;\n",
       "    }\n",
       "\n",
       "    .dataframe tbody tr th {\n",
       "        vertical-align: top;\n",
       "    }\n",
       "</style>\n",
       "<table border=\"1\" class=\"dataframe\">\n",
       "  <thead>\n",
       "    <tr style=\"text-align: right;\">\n",
       "      <th></th>\n",
       "      <th>1964-01-01</th>\n",
       "      <th>2815</th>\n",
       "    </tr>\n",
       "  </thead>\n",
       "  <tbody>\n",
       "    <tr>\n",
       "      <th>0</th>\n",
       "      <td>1964-02-01</td>\n",
       "      <td>2672</td>\n",
       "    </tr>\n",
       "    <tr>\n",
       "      <th>1</th>\n",
       "      <td>1964-03-01</td>\n",
       "      <td>2755</td>\n",
       "    </tr>\n",
       "    <tr>\n",
       "      <th>2</th>\n",
       "      <td>1964-04-01</td>\n",
       "      <td>2721</td>\n",
       "    </tr>\n",
       "    <tr>\n",
       "      <th>3</th>\n",
       "      <td>1964-05-01</td>\n",
       "      <td>2946</td>\n",
       "    </tr>\n",
       "    <tr>\n",
       "      <th>4</th>\n",
       "      <td>1964-06-01</td>\n",
       "      <td>3036</td>\n",
       "    </tr>\n",
       "  </tbody>\n",
       "</table>\n",
       "</div>"
      ],
      "text/plain": [
       "   1964-01-01  2815\n",
       "0  1964-02-01  2672\n",
       "1  1964-03-01  2755\n",
       "2  1964-04-01  2721\n",
       "3  1964-05-01  2946\n",
       "4  1964-06-01  3036"
      ]
     },
     "execution_count": 36,
     "metadata": {},
     "output_type": "execute_result"
    }
   ],
   "source": [
    "series.head()"
   ]
  },
  {
   "cell_type": "code",
   "execution_count": 76,
   "metadata": {},
   "outputs": [
    {
     "name": "stdout",
     "output_type": "stream",
     "text": [
      "                  0\n",
      "count  3.500000e+01\n",
      "mean   9.468673e-08\n",
      "std    7.520603e+02\n",
      "min   -2.141016e+03\n",
      "25%   -2.943129e+02\n",
      "50%   -3.554700e+01\n",
      "75%    3.140116e+02\n",
      "max    1.932537e+03\n"
     ]
    },
    {
     "data": {
      "image/png": "[encoded data removed]",
      "text/plain": [
       "<matplotlib.figure.Figure at 0xd1254a8>"
      ]
     },
     "metadata": {},
     "output_type": "display_data"
    },
    {
     "data": {
      "image/png": "[encoded data removed]",
      "text/plain": [
       "<matplotlib.figure.Figure at 0xb0493c8>"
      ]
     },
     "metadata": {},
     "output_type": "display_data"
    }
   ],
   "source": [
    "# load data\n",
    "series = Series.from_csv('dataset.csv')\n",
    "# prepare data\n",
    "X = series.values\n",
    "X = X.astype('float32')\n",
    "train_size = int(len(X) * 0.50)\n",
    "train, test = X[0:train_size], X[train_size:]\n",
    "# walk-forward validation\n",
    "history = [x for x in train]\n",
    "predictions = list()\n",
    "for i in range(len(test)):\n",
    "\t# difference data\n",
    "\tmonths_in_year = 12\n",
    "\tdiff = difference(history, months_in_year)\n",
    "\t# predict\n",
    "\tmodel = ARIMA(diff, order=(0,1,1))\n",
    "\tmodel_fit = model.fit(trend='nc', disp=0)\n",
    "\tyhat = model_fit.forecast()[0]\n",
    "\tyhat = -111.150423+inverse_difference(history, yhat, months_in_year)\n",
    "\tpredictions.append(yhat)\n",
    "\t# observation\n",
    "\tobs = test[i]\n",
    "\thistory.append(obs)\n",
    "# errors\n",
    "residuals = [test[i]-predictions[i] for i in range(len(test))]\n",
    "residuals = pd.DataFrame(residuals)\n",
    "print(residuals.describe())\n",
    "# plot\n",
    "plt.figure()\n",
    "plt.subplot(211)\n",
    "residuals.hist(ax=plt.gca())\n",
    "plt.subplot(212)\n",
    "residuals.plot(kind='kde', ax=plt.gca())\n",
    "plt.show()\n",
    "\n",
    "from statsmodels.graphics.tsaplots import plot_acf\n",
    "from statsmodels.graphics.tsaplots import plot_pacf\n",
    "plt.figure()\n",
    "plt.subplot(211)\n",
    "plot_acf(residuals, ax=plt.gca())\n",
    "plt.subplot(212)\n",
    "plot_pacf(residuals, ax=plt.gca())\n",
    "plt.show()"
   ]
  },
  {
   "cell_type": "markdown",
   "metadata": {},
   "source": [
    "#### Note\n",
    "\n",
    "We can see that the distribution has a right shift and that the mean is non-zero at 129.128258.\n",
    "\n",
    "We could use this information to bias-correct predictions by adding the mean residual error of 129.128258 to each forecast made.\n",
    "\n",
    "The example below performs this bias correlation."
   ]
  },
  {
   "cell_type": "code",
   "execution_count": 77,
   "metadata": {},
   "outputs": [],
   "source": [
    "from scipy.stats import boxcox\n",
    "import numpy\n",
    " \n",
    "# monkey patch around bug in ARIMA class\n",
    "def __getnewargs__(self):\n",
    "\treturn ((self.endog),(self.k_lags, self.k_diff, self.k_ma))\n",
    " \n",
    "ARIMA.__getnewargs__ = __getnewargs__\n",
    " \n",
    "# create a differenced series\n",
    "def difference(dataset, interval=1):\n",
    "\tdiff = list()\n",
    "\tfor i in range(interval, len(dataset)):\n",
    "\t\tvalue = dataset[i] - dataset[i - interval]\n",
    "\t\tdiff.append(value)\n",
    "\treturn diff\n",
    " \n",
    "# load data\n",
    "series = Series.from_csv('dataset.csv')\n",
    "# prepare data\n",
    "X = series.values\n",
    "X = X.astype('float32')\n",
    "# difference data\n",
    "months_in_year = 12\n",
    "diff = difference(X, months_in_year)\n",
    "# fit model\n",
    "model = ARIMA(diff, order=(0,0,1))\n",
    "model_fit = model.fit(trend='nc', disp=0)\n",
    "# bias constant, could be calculated from in-sample mean residual\n",
    "bias = -111.150423\n",
    "# save model\n",
    "model_fit.save('model.pkl')\n",
    "numpy.save('model_bias.npy', [bias])"
   ]
  },
  {
   "cell_type": "markdown",
   "metadata": {},
   "source": [
    "#### Running the example creates two local files:\n",
    "\n",
    "* model.pkl This is the ARIMAResult object from the call to ARIMA.fit(). This includes the coefficients and all other internal data returned when fitting the model.\n",
    "* model_bias.npy This is the bias value stored as a one-row, one-column NumPy array."
   ]
  },
  {
   "cell_type": "code",
   "execution_count": 78,
   "metadata": {},
   "outputs": [
    {
     "name": "stdout",
     "output_type": "stream",
     "text": [
      "Predicted: 9728.771\n"
     ]
    }
   ],
   "source": [
    "from pandas import Series\n",
    "from statsmodels.tsa.arima_model import ARIMAResults\n",
    "import numpy\n",
    "\n",
    " \n",
    "series = Series.from_csv('dataset.csv')\n",
    "months_in_year = 12\n",
    "model_fit = ARIMAResults.load('model.pkl')\n",
    "bias = numpy.load('model_bias.npy')\n",
    "yhat = float(model_fit.forecast()[0])\n",
    "yhat = bias + inverse_difference(series.values, yhat, months_in_year)\n",
    "print('Predicted: %.3f' % yhat)"
   ]
  },
  {
   "cell_type": "code",
   "execution_count": 79,
   "metadata": {},
   "outputs": [
    {
     "name": "stdout",
     "output_type": "stream",
     "text": [
      ">Predicted=9728.771, Expected=10803\n",
      ">Predicted=11435.774, Expected=13916\n",
      ">Predicted=4573.007, Expected=2639\n",
      ">Predicted=3528.610, Expected=2899\n",
      ">Predicted=4258.405, Expected=3370\n",
      ">Predicted=3945.208, Expected=3740\n",
      ">Predicted=4786.665, Expected=2927\n",
      ">Predicted=4113.087, Expected=3986\n",
      ">Predicted=3359.072, Expected=4217\n",
      ">Predicted=1890.313, Expected=1738\n",
      ">Predicted=5048.578, Expected=5221\n",
      ">Predicted=6775.389, Expected=6424\n",
      "RMSE: 1178.297\n"
     ]
    },
    {
     "data": {
      "image/png": "[encoded data removed]",
      "text/plain": [
       "<matplotlib.figure.Figure at 0xb0832b0>"
      ]
     },
     "metadata": {},
     "output_type": "display_data"
    }
   ],
   "source": [
    "# load and prepare datasets\n",
    "dataset = Series.from_csv('dataset.csv')\n",
    "X = dataset.values.astype('float32')\n",
    "history = [x for x in X]\n",
    "months_in_year = 12\n",
    "validation = Series.from_csv('validation.csv')\n",
    "y = validation.values.astype('float32')\n",
    "# load model\n",
    "model_fit = ARIMAResults.load('model.pkl')\n",
    "bias = numpy.load('model_bias.npy')\n",
    "# make first prediction\n",
    "predictions = list()\n",
    "yhat = float(model_fit.forecast()[0])\n",
    "yhat = bias + inverse_difference(history, yhat, months_in_year)\n",
    "predictions.append(yhat)\n",
    "history.append(y[0])\n",
    "print('>Predicted=%.3f, Expected=%3.f' % (yhat, y[0]))\n",
    "# rolling forecasts\n",
    "for i in range(1, len(y)):\n",
    "\t# difference data\n",
    "\tmonths_in_year = 12\n",
    "\tdiff = difference(history, months_in_year)\n",
    "\t# predict\n",
    "\tmodel = ARIMA(diff, order=(0,0,1))\n",
    "\tmodel_fit = model.fit(trend='nc', disp=0)\n",
    "\tyhat = model_fit.forecast()[0]\n",
    "\tyhat = bias + inverse_difference(history, yhat, months_in_year)\n",
    "\tpredictions.append(yhat)\n",
    "\t# observation\n",
    "\tobs = y[i]\n",
    "\thistory.append(obs)\n",
    "\tprint('>Predicted=%.3f, Expected=%3.f' % (yhat, obs))\n",
    "# report performance\n",
    "mse = mean_squared_error(y, predictions)\n",
    "rmse = sqrt(mse)\n",
    "print('RMSE: %.3f' % rmse)\n",
    "plt.plot(y)\n",
    "plt.plot(predictions, color='red')\n",
    "plt.show()"
   ]
  },
  {
   "cell_type": "code",
   "execution_count": null,
   "metadata": {
    "collapsed": true
   },
   "outputs": [],
   "source": []
  }
 ],
 "metadata": {
  "kernelspec": {
   "display_name": "Python 3",
   "language": "python",
   "name": "python3"
  },
  "language_info": {
   "codemirror_mode": {
    "name": "ipython",
    "version": 3
   },
   "file_extension": ".py",
   "mimetype": "text/x-python",
   "name": "python",
   "nbconvert_exporter": "python",
   "pygments_lexer": "ipython3",
   "version": "3.5.4"
  }
 },
 "nbformat": 4,
 "nbformat_minor": 2
}
